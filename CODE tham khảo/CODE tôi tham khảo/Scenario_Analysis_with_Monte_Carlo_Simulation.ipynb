{
 "cells": [
  {
   "cell_type": "code",
   "execution_count": 1,
   "metadata": {
    "scrolled": true
   },
   "outputs": [
    {
     "name": "stdout",
     "output_type": "stream",
     "text": [
      "Requirement already satisfied: yfinance in c:\\users\\ritesh\\appdata\\local\\programs\\python\\python38-32\\lib\\site-packages (0.1.55)\n",
      "Requirement already satisfied: pandas>=0.24 in c:\\users\\ritesh\\appdata\\local\\programs\\python\\python38-32\\lib\\site-packages (from yfinance) (1.0.5)\n",
      "Requirement already satisfied: numpy>=1.15 in c:\\users\\ritesh\\appdata\\local\\programs\\python\\python38-32\\lib\\site-packages (from yfinance) (1.19.0)\n",
      "Requirement already satisfied: requests>=2.20 in c:\\users\\ritesh\\appdata\\local\\programs\\python\\python38-32\\lib\\site-packages (from yfinance) (2.24.0)\n",
      "Requirement already satisfied: multitasking>=0.0.7 in c:\\users\\ritesh\\appdata\\local\\programs\\python\\python38-32\\lib\\site-packages (from yfinance) (0.0.9)\n",
      "Requirement already satisfied: lxml>=4.5.1 in c:\\users\\ritesh\\appdata\\local\\programs\\python\\python38-32\\lib\\site-packages (from yfinance) (4.5.2)\n",
      "Requirement already satisfied: python-dateutil>=2.6.1 in c:\\users\\ritesh\\appdata\\local\\programs\\python\\python38-32\\lib\\site-packages (from pandas>=0.24->yfinance) (2.8.1)\n",
      "Requirement already satisfied: pytz>=2017.2 in c:\\users\\ritesh\\appdata\\local\\programs\\python\\python38-32\\lib\\site-packages (from pandas>=0.24->yfinance) (2020.1)\n",
      "Requirement already satisfied: chardet<4,>=3.0.2 in c:\\users\\ritesh\\appdata\\local\\programs\\python\\python38-32\\lib\\site-packages (from requests>=2.20->yfinance) (3.0.4)\n",
      "Requirement already satisfied: urllib3!=1.25.0,!=1.25.1,<1.26,>=1.21.1 in c:\\users\\ritesh\\appdata\\local\\programs\\python\\python38-32\\lib\\site-packages (from requests>=2.20->yfinance) (1.25.9)\n",
      "Requirement already satisfied: idna<3,>=2.5 in c:\\users\\ritesh\\appdata\\local\\programs\\python\\python38-32\\lib\\site-packages (from requests>=2.20->yfinance) (2.10)\n",
      "Requirement already satisfied: certifi>=2017.4.17 in c:\\users\\ritesh\\appdata\\local\\programs\\python\\python38-32\\lib\\site-packages (from requests>=2.20->yfinance) (2020.6.20)\n",
      "Requirement already satisfied: six>=1.5 in c:\\users\\ritesh\\appdata\\local\\programs\\python\\python38-32\\lib\\site-packages (from python-dateutil>=2.6.1->pandas>=0.24->yfinance) (1.15.0)\n"
     ]
    }
   ],
   "source": [
    "!pip install yfinance"
   ]
  },
  {
   "cell_type": "code",
   "execution_count": 2,
   "metadata": {},
   "outputs": [],
   "source": [
    "import yfinance\n",
    "import pandas as pd\n",
    "import numpy as np\n",
    "import matplotlib.pyplot as plt"
   ]
  },
  {
   "cell_type": "code",
   "execution_count": 39,
   "metadata": {},
   "outputs": [],
   "source": [
    "portfolio_composition = [('RELI',0.5),('SBI',0.3),('WIPRO.NS',0.2)]\n",
    "returns = pd.DataFrame({})\n",
    "\n",
    "for t in portfolio_composition:\n",
    "    name = t[0]\n",
    "    ticker = yfinance.Ticker(name)\n",
    "    data = ticker.history(interval = '1d',\n",
    "                     start = \"2011-01-01\", end = \"2020-10-09\")\n",
    "    data[\"returns_%s\" %(name)] = data['Close'].pct_change(1)\n",
    "    \n",
    "    returns = returns.join(data[[\"returns_%s\" %(name)]], how = \"outer\").dropna()"
   ]
  },
  {
   "cell_type": "code",
   "execution_count": 40,
   "metadata": {},
   "outputs": [
    {
     "data": {
      "text/html": [
       "<div>\n",
       "<style scoped>\n",
       "    .dataframe tbody tr th:only-of-type {\n",
       "        vertical-align: middle;\n",
       "    }\n",
       "\n",
       "    .dataframe tbody tr th {\n",
       "        vertical-align: top;\n",
       "    }\n",
       "\n",
       "    .dataframe thead th {\n",
       "        text-align: right;\n",
       "    }\n",
       "</style>\n",
       "<table border=\"1\" class=\"dataframe\">\n",
       "  <thead>\n",
       "    <tr style=\"text-align: right;\">\n",
       "      <th></th>\n",
       "      <th>returns_RELI</th>\n",
       "      <th>returns_SBI</th>\n",
       "      <th>returns_WIPRO.NS</th>\n",
       "    </tr>\n",
       "    <tr>\n",
       "      <th>Date</th>\n",
       "      <th></th>\n",
       "      <th></th>\n",
       "      <th></th>\n",
       "    </tr>\n",
       "  </thead>\n",
       "  <tbody>\n",
       "    <tr>\n",
       "      <th>2015-02-11</th>\n",
       "      <td>0.200000</td>\n",
       "      <td>-0.003010</td>\n",
       "      <td>-0.006536</td>\n",
       "    </tr>\n",
       "    <tr>\n",
       "      <th>2015-02-12</th>\n",
       "      <td>0.000000</td>\n",
       "      <td>0.005031</td>\n",
       "      <td>0.013158</td>\n",
       "    </tr>\n",
       "    <tr>\n",
       "      <th>2015-02-13</th>\n",
       "      <td>0.000000</td>\n",
       "      <td>0.001001</td>\n",
       "      <td>0.021493</td>\n",
       "    </tr>\n",
       "    <tr>\n",
       "      <th>2015-02-18</th>\n",
       "      <td>0.000000</td>\n",
       "      <td>0.005144</td>\n",
       "      <td>0.011336</td>\n",
       "    </tr>\n",
       "    <tr>\n",
       "      <th>2015-02-19</th>\n",
       "      <td>0.000000</td>\n",
       "      <td>-0.002047</td>\n",
       "      <td>-0.014198</td>\n",
       "    </tr>\n",
       "    <tr>\n",
       "      <th>...</th>\n",
       "      <td>...</td>\n",
       "      <td>...</td>\n",
       "      <td>...</td>\n",
       "    </tr>\n",
       "    <tr>\n",
       "      <th>2020-10-01</th>\n",
       "      <td>-0.100792</td>\n",
       "      <td>-0.004415</td>\n",
       "      <td>-0.001595</td>\n",
       "    </tr>\n",
       "    <tr>\n",
       "      <th>2020-10-05</th>\n",
       "      <td>0.076861</td>\n",
       "      <td>0.001117</td>\n",
       "      <td>0.066763</td>\n",
       "    </tr>\n",
       "    <tr>\n",
       "      <th>2020-10-06</th>\n",
       "      <td>0.000967</td>\n",
       "      <td>-0.002232</td>\n",
       "      <td>-0.011678</td>\n",
       "    </tr>\n",
       "    <tr>\n",
       "      <th>2020-10-07</th>\n",
       "      <td>-0.090099</td>\n",
       "      <td>0.003356</td>\n",
       "      <td>0.015907</td>\n",
       "    </tr>\n",
       "    <tr>\n",
       "      <th>2020-10-08</th>\n",
       "      <td>0.111020</td>\n",
       "      <td>0.016722</td>\n",
       "      <td>0.072025</td>\n",
       "    </tr>\n",
       "  </tbody>\n",
       "</table>\n",
       "<p>1354 rows × 3 columns</p>\n",
       "</div>"
      ],
      "text/plain": [
       "            returns_RELI  returns_SBI  returns_WIPRO.NS\n",
       "Date                                                   \n",
       "2015-02-11      0.200000    -0.003010         -0.006536\n",
       "2015-02-12      0.000000     0.005031          0.013158\n",
       "2015-02-13      0.000000     0.001001          0.021493\n",
       "2015-02-18      0.000000     0.005144          0.011336\n",
       "2015-02-19      0.000000    -0.002047         -0.014198\n",
       "...                  ...          ...               ...\n",
       "2020-10-01     -0.100792    -0.004415         -0.001595\n",
       "2020-10-05      0.076861     0.001117          0.066763\n",
       "2020-10-06      0.000967    -0.002232         -0.011678\n",
       "2020-10-07     -0.090099     0.003356          0.015907\n",
       "2020-10-08      0.111020     0.016722          0.072025\n",
       "\n",
       "[1354 rows x 3 columns]"
      ]
     },
     "execution_count": 40,
     "metadata": {},
     "output_type": "execute_result"
    }
   ],
   "source": [
    "returns"
   ]
  },
  {
   "cell_type": "code",
   "execution_count": 4,
   "metadata": {},
   "outputs": [],
   "source": [
    "# MONTE CARLO SIMULATION OF A SINGLE STOCK"
   ]
  },
  {
   "cell_type": "code",
   "execution_count": 6,
   "metadata": {},
   "outputs": [
    {
     "data": {
      "text/plain": [
       "0      0.000000\n",
       "1      0.016949\n",
       "2      0.428571\n",
       "3      0.104575\n",
       "4     -0.121326\n",
       "         ...   \n",
       "995    0.000000\n",
       "996    0.056769\n",
       "997    0.000000\n",
       "998    0.000000\n",
       "999    0.000000\n",
       "Name: returns_RELI, Length: 1000, dtype: float64"
      ]
     },
     "execution_count": 6,
     "metadata": {},
     "output_type": "execute_result"
    }
   ],
   "source": [
    "def simulate_returns(historical_returns, forecast_days):\n",
    "    return historical_returns.sample(n = forecast_days,\n",
    "                                    replace = True).reset_index(drop = True)\n",
    "#REPLACE IS True because if its set to false then it means that sampling is not fully random and if sampling is not fully\n",
    "#random then the simulation is not fully random\n",
    "\n",
    "\n",
    "simulate_returns(returns['returns_RELI'],1000)"
   ]
  },
  {
   "cell_type": "code",
   "execution_count": 16,
   "metadata": {},
   "outputs": [
    {
     "data": {
      "text/plain": [
       "0    0.209330\n",
       "1   -0.004164\n",
       "2    0.000864\n",
       "3   -0.001716\n",
       "4   -0.005077\n",
       "5   -0.002273\n",
       "6    0.005136\n",
       "7   -0.003723\n",
       "8   -0.008288\n",
       "9   -0.034211\n",
       "dtype: float64"
      ]
     },
     "execution_count": 16,
     "metadata": {},
     "output_type": "execute_result"
    }
   ],
   "source": [
    "def simulate_portfolio(historical_returns, \n",
    "   composition, \n",
    "   forecast_days):\n",
    "  result = 0\n",
    "  for t in composition:\n",
    "    name,weight = t[0],t[1]\n",
    "    s = simulate_returns(historical_returns['returns_%s' %(name)], \n",
    "      forecast_days)\n",
    "    result = result + s * weight\n",
    "  \n",
    "  return(result)\n",
    "\n",
    "\n",
    "simulate_portfolio(returns,portfolio_composition,10)"
   ]
  },
  {
   "cell_type": "code",
   "execution_count": 17,
   "metadata": {},
   "outputs": [],
   "source": [
    "def simulate_modified_returns(\n",
    "      historical_returns,\n",
    "      forecast_days,\n",
    "      correct_mean_by):\n",
    "  h = historical_returns.copy()\n",
    "  new_series = h + correct_mean_by\n",
    "  return new_series.sample(n=forecast_days,  \n",
    "     replace = True).reset_index(drop=True)\n",
    "\n"
   ]
  },
  {
   "cell_type": "code",
   "execution_count": 18,
   "metadata": {},
   "outputs": [],
   "source": [
    "def simulate_modified_portfolio(\n",
    "   historical_returns,\n",
    "   composition,\n",
    "   forecast_days):\n",
    "  \n",
    "  result = 0\n",
    "  \n",
    "  for t in composition:\n",
    "    name,weight,correction = t[0],t[1],t[2]\n",
    "    s = simulate_modified_returns(\n",
    "       historical_returns['returns_%s' % (name)], \n",
    "       forecast_days,correction\n",
    "    )\n",
    "    \n",
    "    result = result + s * weight\n",
    "  \n",
    "  return(result)"
   ]
  },
  {
   "cell_type": "code",
   "execution_count": 19,
   "metadata": {},
   "outputs": [],
   "source": [
    "def simulation(historical_returns,composition,forecast_days,n_iterations):\n",
    "  simulated_portfolios = None\n",
    "\n",
    "  for i in range(n_iterations):\n",
    "    sim = simulate_modified_portfolio(historical_returns,composition,forecast_days)\n",
    "\n",
    "    sim_port = pd.DataFrame({'returns_%d' % (i) : sim}) #making it a dictionary to finally call\n",
    "\n",
    "    if simulated_portfolios is None:\n",
    "      simulated_portfolios = sim_port\n",
    "    else:\n",
    "      simulated_portfolios = simulated_portfolios.join(sim_port)\n",
    "    \n",
    "  return simulated_portfolios"
   ]
  },
  {
   "cell_type": "markdown",
   "metadata": {},
   "source": [
    "## Simulated portfolio with correction"
   ]
  },
  {
   "cell_type": "code",
   "execution_count": 20,
   "metadata": {},
   "outputs": [
    {
     "data": {
      "text/plain": [
       "returns_RELI        0.016299\n",
       "returns_SBI         0.000156\n",
       "returns_WIPRO.NS    0.000490\n",
       "dtype: float64"
      ]
     },
     "execution_count": 20,
     "metadata": {},
     "output_type": "execute_result"
    }
   ],
   "source": [
    "returns.mean(axis=0)"
   ]
  },
  {
   "cell_type": "code",
   "execution_count": 21,
   "metadata": {},
   "outputs": [],
   "source": [
    "portfolio_compositionN = [\n",
    "   ('RELI', 0.5,-0.005), \n",
    "   ('SBI', 0.3,-0.0001), \n",
    "   ('WIPRO.NS', 0.2,-0.0002)\n",
    "]"
   ]
  },
  {
   "cell_type": "code",
   "execution_count": 22,
   "metadata": {},
   "outputs": [],
   "source": [
    "forecast_days = 20\n",
    "n_iterations = 200"
   ]
  },
  {
   "cell_type": "code",
   "execution_count": 23,
   "metadata": {},
   "outputs": [
    {
     "data": {
      "text/html": [
       "<div>\n",
       "<style scoped>\n",
       "    .dataframe tbody tr th:only-of-type {\n",
       "        vertical-align: middle;\n",
       "    }\n",
       "\n",
       "    .dataframe tbody tr th {\n",
       "        vertical-align: top;\n",
       "    }\n",
       "\n",
       "    .dataframe thead th {\n",
       "        text-align: right;\n",
       "    }\n",
       "</style>\n",
       "<table border=\"1\" class=\"dataframe\">\n",
       "  <thead>\n",
       "    <tr style=\"text-align: right;\">\n",
       "      <th></th>\n",
       "      <th>returns_0</th>\n",
       "      <th>returns_1</th>\n",
       "      <th>returns_2</th>\n",
       "      <th>returns_3</th>\n",
       "      <th>returns_4</th>\n",
       "      <th>returns_5</th>\n",
       "      <th>returns_6</th>\n",
       "      <th>returns_7</th>\n",
       "      <th>returns_8</th>\n",
       "      <th>returns_9</th>\n",
       "      <th>...</th>\n",
       "      <th>returns_190</th>\n",
       "      <th>returns_191</th>\n",
       "      <th>returns_192</th>\n",
       "      <th>returns_193</th>\n",
       "      <th>returns_194</th>\n",
       "      <th>returns_195</th>\n",
       "      <th>returns_196</th>\n",
       "      <th>returns_197</th>\n",
       "      <th>returns_198</th>\n",
       "      <th>returns_199</th>\n",
       "    </tr>\n",
       "  </thead>\n",
       "  <tbody>\n",
       "    <tr>\n",
       "      <th>0</th>\n",
       "      <td>-0.052647</td>\n",
       "      <td>-0.000745</td>\n",
       "      <td>0.008382</td>\n",
       "      <td>-0.345775</td>\n",
       "      <td>0.003228</td>\n",
       "      <td>-0.052849</td>\n",
       "      <td>0.058472</td>\n",
       "      <td>0.043269</td>\n",
       "      <td>0.002851</td>\n",
       "      <td>-0.006345</td>\n",
       "      <td>...</td>\n",
       "      <td>-0.007070</td>\n",
       "      <td>-0.028956</td>\n",
       "      <td>0.004776</td>\n",
       "      <td>-0.098239</td>\n",
       "      <td>-0.013291</td>\n",
       "      <td>-0.004512</td>\n",
       "      <td>-0.004623</td>\n",
       "      <td>-0.026121</td>\n",
       "      <td>0.036721</td>\n",
       "      <td>-0.011945</td>\n",
       "    </tr>\n",
       "    <tr>\n",
       "      <th>1</th>\n",
       "      <td>-0.027706</td>\n",
       "      <td>-0.000927</td>\n",
       "      <td>-0.001820</td>\n",
       "      <td>0.034666</td>\n",
       "      <td>-0.009715</td>\n",
       "      <td>0.056827</td>\n",
       "      <td>-0.070349</td>\n",
       "      <td>-0.195860</td>\n",
       "      <td>-0.003664</td>\n",
       "      <td>-0.005542</td>\n",
       "      <td>...</td>\n",
       "      <td>0.000115</td>\n",
       "      <td>-0.004117</td>\n",
       "      <td>-0.002583</td>\n",
       "      <td>0.158916</td>\n",
       "      <td>-0.014832</td>\n",
       "      <td>-0.000649</td>\n",
       "      <td>0.002142</td>\n",
       "      <td>0.008095</td>\n",
       "      <td>-0.001768</td>\n",
       "      <td>-0.025149</td>\n",
       "    </tr>\n",
       "    <tr>\n",
       "      <th>2</th>\n",
       "      <td>0.429495</td>\n",
       "      <td>-0.002411</td>\n",
       "      <td>-0.004483</td>\n",
       "      <td>-0.080253</td>\n",
       "      <td>-0.051816</td>\n",
       "      <td>0.011674</td>\n",
       "      <td>-0.005000</td>\n",
       "      <td>0.019075</td>\n",
       "      <td>-0.001132</td>\n",
       "      <td>-0.004452</td>\n",
       "      <td>...</td>\n",
       "      <td>-0.006127</td>\n",
       "      <td>0.077592</td>\n",
       "      <td>-0.372874</td>\n",
       "      <td>-0.018570</td>\n",
       "      <td>0.001577</td>\n",
       "      <td>0.334439</td>\n",
       "      <td>-0.041385</td>\n",
       "      <td>0.102442</td>\n",
       "      <td>0.131053</td>\n",
       "      <td>-0.004437</td>\n",
       "    </tr>\n",
       "    <tr>\n",
       "      <th>3</th>\n",
       "      <td>-0.001802</td>\n",
       "      <td>-0.004994</td>\n",
       "      <td>-0.098851</td>\n",
       "      <td>0.004020</td>\n",
       "      <td>-0.006548</td>\n",
       "      <td>0.026545</td>\n",
       "      <td>-0.003560</td>\n",
       "      <td>-0.010657</td>\n",
       "      <td>-0.126205</td>\n",
       "      <td>0.030307</td>\n",
       "      <td>...</td>\n",
       "      <td>0.054891</td>\n",
       "      <td>-0.002912</td>\n",
       "      <td>-0.005576</td>\n",
       "      <td>0.036405</td>\n",
       "      <td>0.117626</td>\n",
       "      <td>0.066993</td>\n",
       "      <td>0.007497</td>\n",
       "      <td>-0.047198</td>\n",
       "      <td>0.003391</td>\n",
       "      <td>-0.142205</td>\n",
       "    </tr>\n",
       "    <tr>\n",
       "      <th>4</th>\n",
       "      <td>-0.003601</td>\n",
       "      <td>0.005985</td>\n",
       "      <td>-0.008399</td>\n",
       "      <td>-0.007196</td>\n",
       "      <td>-0.005335</td>\n",
       "      <td>0.000998</td>\n",
       "      <td>-0.075531</td>\n",
       "      <td>-0.000690</td>\n",
       "      <td>-0.053102</td>\n",
       "      <td>0.042451</td>\n",
       "      <td>...</td>\n",
       "      <td>-0.094527</td>\n",
       "      <td>-0.001580</td>\n",
       "      <td>0.013830</td>\n",
       "      <td>0.000642</td>\n",
       "      <td>-0.000797</td>\n",
       "      <td>-0.003700</td>\n",
       "      <td>-0.034350</td>\n",
       "      <td>-0.014640</td>\n",
       "      <td>-0.001617</td>\n",
       "      <td>-0.036288</td>\n",
       "    </tr>\n",
       "  </tbody>\n",
       "</table>\n",
       "<p>5 rows × 200 columns</p>\n",
       "</div>"
      ],
      "text/plain": [
       "   returns_0  returns_1  returns_2  returns_3  returns_4  returns_5  \\\n",
       "0  -0.052647  -0.000745   0.008382  -0.345775   0.003228  -0.052849   \n",
       "1  -0.027706  -0.000927  -0.001820   0.034666  -0.009715   0.056827   \n",
       "2   0.429495  -0.002411  -0.004483  -0.080253  -0.051816   0.011674   \n",
       "3  -0.001802  -0.004994  -0.098851   0.004020  -0.006548   0.026545   \n",
       "4  -0.003601   0.005985  -0.008399  -0.007196  -0.005335   0.000998   \n",
       "\n",
       "   returns_6  returns_7  returns_8  returns_9  ...  returns_190  returns_191  \\\n",
       "0   0.058472   0.043269   0.002851  -0.006345  ...    -0.007070    -0.028956   \n",
       "1  -0.070349  -0.195860  -0.003664  -0.005542  ...     0.000115    -0.004117   \n",
       "2  -0.005000   0.019075  -0.001132  -0.004452  ...    -0.006127     0.077592   \n",
       "3  -0.003560  -0.010657  -0.126205   0.030307  ...     0.054891    -0.002912   \n",
       "4  -0.075531  -0.000690  -0.053102   0.042451  ...    -0.094527    -0.001580   \n",
       "\n",
       "   returns_192  returns_193  returns_194  returns_195  returns_196  \\\n",
       "0     0.004776    -0.098239    -0.013291    -0.004512    -0.004623   \n",
       "1    -0.002583     0.158916    -0.014832    -0.000649     0.002142   \n",
       "2    -0.372874    -0.018570     0.001577     0.334439    -0.041385   \n",
       "3    -0.005576     0.036405     0.117626     0.066993     0.007497   \n",
       "4     0.013830     0.000642    -0.000797    -0.003700    -0.034350   \n",
       "\n",
       "   returns_197  returns_198  returns_199  \n",
       "0    -0.026121     0.036721    -0.011945  \n",
       "1     0.008095    -0.001768    -0.025149  \n",
       "2     0.102442     0.131053    -0.004437  \n",
       "3    -0.047198     0.003391    -0.142205  \n",
       "4    -0.014640    -0.001617    -0.036288  \n",
       "\n",
       "[5 rows x 200 columns]"
      ]
     },
     "execution_count": 23,
     "metadata": {},
     "output_type": "execute_result"
    }
   ],
   "source": [
    "simulated_portfolios = simulation(returns,\n",
    "    portfolio_compositionN,forecast_days,n_iterations)\n",
    "\n",
    "simulated_portfolios.head()"
   ]
  },
  {
   "cell_type": "code",
   "execution_count": 27,
   "metadata": {},
   "outputs": [],
   "source": [
    "percentile_5th = simulated_portfolios.cumsum().apply(lambda x : np.percentile(x,5),axis=1)\n",
    "percentile_95th = simulated_portfolios.cumsum().apply(lambda x : np.percentile(x,95),axis=1)\n",
    "average_port = simulated_portfolios.cumsum().apply(lambda x : np.mean(x),axis=1)"
   ]
  },
  {
   "cell_type": "code",
   "execution_count": 29,
   "metadata": {},
   "outputs": [
    {
     "name": "stdout",
     "output_type": "stream",
     "text": [
      "19   -0.480821\n",
      "dtype: float64\n",
      "19    1.176561\n",
      "dtype: float64\n",
      "19    0.128181\n",
      "dtype: float64\n"
     ]
    }
   ],
   "source": [
    "print(percentile_5th.tail(1))\n",
    "print(percentile_95th.tail(1))\n",
    "print(average_port.tail(1))"
   ]
  },
  {
   "cell_type": "markdown",
   "metadata": {},
   "source": [
    "## Confidence interval for future Portfolio"
   ]
  },
  {
   "cell_type": "code",
   "execution_count": 30,
   "metadata": {},
   "outputs": [
    {
     "data": {
      "image/png": "[encoded data removed]",
      "text/plain": [
       "<Figure size 720x720 with 1 Axes>"
      ]
     },
     "metadata": {
      "needs_background": "light"
     },
     "output_type": "display_data"
    }
   ],
   "source": [
    "x = range(forecast_days)\n",
    "\n",
    "plt.rcParams['figure.figsize'] = [10, 10]\n",
    "\n",
    "plt.plot(x,average_port,label=\"Average portfolio\")\n",
    "plt.xlabel(\"Day\")\n",
    "plt.ylabel(\"Portfolio return\")\n",
    "\n",
    "\n",
    "plt.fill_between(x, percentile_5th, percentile_95th, alpha=0.2 )\n",
    "plt.grid()\n",
    "plt.legend()\n",
    "\n",
    "plt.show()"
   ]
  },
  {
   "cell_type": "markdown",
   "metadata": {},
   "source": [
    "## Probablity of beating the portfolio target"
   ]
  },
  {
   "cell_type": "code",
   "execution_count": 32,
   "metadata": {},
   "outputs": [],
   "source": [
    "target_return = 0.02\n",
    "\n",
    "target_prob_port = simulated_portfolios.cumsum().apply(lambda x : np.mean(x > target_return),axis=1)"
   ]
  },
  {
   "cell_type": "code",
   "execution_count": 33,
   "metadata": {},
   "outputs": [
    {
     "data": {
      "text/plain": [
       "19    0.495\n",
       "dtype: float64"
      ]
     },
     "execution_count": 33,
     "metadata": {},
     "output_type": "execute_result"
    }
   ],
   "source": [
    "target_prob_port.tail(1)"
   ]
  },
  {
   "cell_type": "code",
   "execution_count": 34,
   "metadata": {},
   "outputs": [],
   "source": [
    "err_bars = np.sqrt(target_prob_port*(1-target_prob_port)/n_iterations)"
   ]
  },
  {
   "cell_type": "code",
   "execution_count": 35,
   "metadata": {},
   "outputs": [
    {
     "data": {
      "text/plain": [
       "19    0.035354\n",
       "dtype: float64"
      ]
     },
     "execution_count": 35,
     "metadata": {},
     "output_type": "execute_result"
    }
   ],
   "source": [
    "err_bars.tail(1)"
   ]
  },
  {
   "cell_type": "code",
   "execution_count": 36,
   "metadata": {},
   "outputs": [
    {
     "data": {
      "image/png": "[encoded data removed]",
      "text/plain": [
       "<Figure size 720x720 with 1 Axes>"
      ]
     },
     "metadata": {
      "needs_background": "light"
     },
     "output_type": "display_data"
    }
   ],
   "source": [
    "x = range(forecast_days)\n",
    "\n",
    "plt.rcParams['figure.figsize'] = [10, 10]\n",
    "\n",
    "plt.bar(x,target_prob_port,yerr = err_bars)\n",
    "\n",
    "plt.xlabel(\"Day\")\n",
    "plt.ylabel(\"Probability of return >= %.2f\" % (target_return))\n",
    "\n",
    "plt.grid()\n",
    "\n",
    "plt.show()"
   ]
  },
  {
   "cell_type": "markdown",
   "metadata": {},
   "source": [
    "## Sharpe Ratio Histogram"
   ]
  },
  {
   "cell_type": "code",
   "execution_count": 37,
   "metadata": {},
   "outputs": [],
   "source": [
    "sharpe_indices = simulated_portfolios.apply(lambda x : np.mean(x)/np.std(x))"
   ]
  },
  {
   "cell_type": "code",
   "execution_count": 38,
   "metadata": {},
   "outputs": [
    {
     "data": {
      "image/png": "[encoded data removed]",
      "text/plain": [
       "<Figure size 720x720 with 1 Axes>"
      ]
     },
     "metadata": {
      "needs_background": "light"
     },
     "output_type": "display_data"
    }
   ],
   "source": [
    "plt.hist(sharpe_indices,bins=\"rice\")\n",
    "plt.xlabel(\"Sharpe ratio\")\n",
    "\n",
    "plt.show()"
   ]
  },
  {
   "cell_type": "markdown",
   "metadata": {},
   "source": [
    "## Sharpe Ratio Mean Value"
   ]
  },
  {
   "cell_type": "code",
   "execution_count": 41,
   "metadata": {},
   "outputs": [
    {
     "data": {
      "text/plain": [
       "-0.004887978578357556"
      ]
     },
     "execution_count": 41,
     "metadata": {},
     "output_type": "execute_result"
    }
   ],
   "source": [
    "np.mean(sharpe_indices)"
   ]
  }
 ],
 "metadata": {
  "kernelspec": {
   "display_name": "Python 3",
   "language": "python",
   "name": "python3"
  },
  "language_info": {
   "codemirror_mode": {
    "name": "ipython",
    "version": 3
   },
   "file_extension": ".py",
   "mimetype": "text/x-python",
   "name": "python",
   "nbconvert_exporter": "python",
   "pygments_lexer": "ipython3",
   "version": "3.8.5"
  }
 },
 "nbformat": 4,
 "nbformat_minor": 4
}
